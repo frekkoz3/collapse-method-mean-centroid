{
 "cells": [
  {
   "cell_type": "markdown",
   "metadata": {},
   "source": [
    "# METODO DEL COLLASSO\n",
    "\n",
    "In questo notebook andiamo a costruire un algoritmo di unsupervised learning: il metodo del collasso per cluster (centroidi = media)."
   ]
  },
  {
   "cell_type": "code",
   "execution_count": 61,
   "metadata": {},
   "outputs": [],
   "source": [
    "import math\n",
    "import random\n",
    "from matplotlib import pyplot as plt"
   ]
  },
  {
   "cell_type": "code",
   "execution_count": 62,
   "metadata": {},
   "outputs": [],
   "source": [
    "NUMBER_OF_POINTS = 15\n",
    "NUMBER_OF_CLUSTERS = 3\n",
    "RANGE = 15"
   ]
  },
  {
   "cell_type": "markdown",
   "metadata": {},
   "source": [
    "Definiamo ora una classe punto appartenente ad una qualunque dimensione, tuttavia useremo solo punti in R2."
   ]
  },
  {
   "cell_type": "code",
   "execution_count": 63,
   "metadata": {},
   "outputs": [],
   "source": [
    "class point:\n",
    "    def __init__(self, index, coordinates):\n",
    "        self.index = index\n",
    "        self.coordinates = coordinates\n",
    "    \n",
    "    def distance(self, p):\n",
    "        return math.dist(self.coordinates, p.coordinates)\n",
    "    \n",
    "    def __str__(self):\n",
    "        return f\"{self.index} : {self.coordinates}\"\n",
    "    \n",
    "    def __len__(self):\n",
    "        return len(self.coordinates)"
   ]
  },
  {
   "cell_type": "code",
   "execution_count": 64,
   "metadata": {},
   "outputs": [],
   "source": [
    "points = [point(i, [random.uniform(0, RANGE) for j in range (0, 2)]) for i in range (NUMBER_OF_POINTS)]"
   ]
  },
  {
   "cell_type": "code",
   "execution_count": 65,
   "metadata": {},
   "outputs": [],
   "source": [
    "x = []\n",
    "y = []\n",
    "c = []\n",
    "for p in points:\n",
    "    x.append(p.coordinates[0])\n",
    "    y.append(p.coordinates[1])\n",
    "    c.append('black')"
   ]
  },
  {
   "cell_type": "markdown",
   "metadata": {},
   "source": [
    "Visualizziamo i punti che abbiamo definito."
   ]
  },
  {
   "cell_type": "code",
   "execution_count": 66,
   "metadata": {},
   "outputs": [
    {
     "data": {
      "image/png": "[encoded data removed]",
      "text/plain": [
       "<Figure size 640x480 with 1 Axes>"
      ]
     },
     "metadata": {},
     "output_type": "display_data"
    }
   ],
   "source": [
    "plt.scatter(x, y, c=c)\n",
    "plt.show()"
   ]
  },
  {
   "cell_type": "markdown",
   "metadata": {},
   "source": [
    "Definiamo ora la matrice delle distanze. \n",
    "\n",
    "Poiché assumiamo la sua simmetria ci calcoliamo solo la parte superiore."
   ]
  },
  {
   "cell_type": "code",
   "execution_count": 67,
   "metadata": {},
   "outputs": [],
   "source": [
    "distances = []\n",
    "\n",
    "for i in range (len(points)):\n",
    "    d = []\n",
    "    for j in range (i + 1, len(points)):\n",
    "        d.append(points[i].distance(points[j]))\n",
    "    distances.append(d)"
   ]
  },
  {
   "cell_type": "markdown",
   "metadata": {},
   "source": [
    "Definiamo una classe per il cluster. \n",
    "\n",
    "Usiamo la media dei punti del cluster come punto di centroide. \n",
    "\n",
    "Notiamo bene che poi useremo solo i cluster e non veramente i punti una volta che andremo ad eseguire il procedimento."
   ]
  },
  {
   "cell_type": "code",
   "execution_count": 68,
   "metadata": {},
   "outputs": [],
   "source": [
    "class cluster:\n",
    "    def __init__(self):\n",
    "        self.points = []\n",
    "        self.centroid = None\n",
    "    \n",
    "    def add_point(self, p):\n",
    "        self.points.append(p)\n",
    "        self.compute_centroid()\n",
    "    \n",
    "    def compute_centroid(self):\n",
    "        n = len(self.points)\n",
    "        dim = len(self.points[0])\n",
    "        sum = [0] * dim\n",
    "        for p in self.points:\n",
    "            for i in range(dim):\n",
    "                sum[i] += p.coordinates[i]\n",
    "        self.centroid = point(0, tuple(s / n for s in sum))\n",
    "    \n",
    "    def compute_radius(self):\n",
    "        n = len(self.points)\n",
    "        if self.centroid == None:\n",
    "            return 0\n",
    "        distances = [self.centroid.distance(p) for p in self.points]\n",
    "        return max(distances)\n",
    "    \n",
    "    def merge_cluster(self, cl):\n",
    "        for p in cl.points:\n",
    "            self.points.append(p)\n",
    "        self.compute_centroid()\n",
    "    \n",
    "    def distance(self, point):\n",
    "        return self.centroid.distance(point)\n",
    "\n",
    "    def __str__(self):\n",
    "        return f\"numero di punti che il cluster racchiude : {len(self.points)} \\ncoordinate del centroide : {self.centroid}\"\n",
    "\n",
    "    def __len__(self):\n",
    "        return len(self.points)\n"
   ]
  },
  {
   "cell_type": "markdown",
   "metadata": {},
   "source": [
    "Verifichiamo che tutto funzioni."
   ]
  },
  {
   "cell_type": "code",
   "execution_count": 69,
   "metadata": {},
   "outputs": [
    {
     "name": "stdout",
     "output_type": "stream",
     "text": [
      "numero di punti che il cluster racchiude : 15 \n",
      "coordinate del centroide : 0 : (7.033564614684624, 7.069920523836518)\n",
      "8.027244480109148\n"
     ]
    }
   ],
   "source": [
    "clu = cluster()\n",
    "\n",
    "for p in points:\n",
    "    clu.add_point(p)\n",
    "\n",
    "print(clu)\n",
    "print(clu.compute_radius())"
   ]
  },
  {
   "cell_type": "markdown",
   "metadata": {},
   "source": [
    "Creiamo una funzione che ci permetta di visualizzare il tutto."
   ]
  },
  {
   "cell_type": "code",
   "execution_count": 70,
   "metadata": {},
   "outputs": [],
   "source": [
    "def show_clusters(clusters):\n",
    "    min_x = float(\"inf\")\n",
    "    max_x = -float(\"inf\")\n",
    "    min_y = float(\"inf\")\n",
    "    max_y = -float(\"inf\")\n",
    "\n",
    "    fig, ax = plt.subplots()\n",
    "\n",
    "    for cl in clusters:\n",
    "        col = [random.uniform(0, 1) for i in range (0, 3)]\n",
    "        col1 = col\n",
    "        col1.append(0.2)\n",
    "        circle = plt.Circle(tuple(cl.centroid.coordinates),  cl.compute_radius(), color = col1, fill = True)\n",
    "        ax.add_artist(circle)\n",
    "        ax.scatter(cl.centroid.coordinates[0], cl.centroid.coordinates[1],  c = col)\n",
    "\n",
    "        if min_x > ( cl.centroid.coordinates[0] - cl.compute_radius() ):\n",
    "            min_x = ( cl.centroid.coordinates[0] - cl.compute_radius() )\n",
    "        if max_x < ( cl.centroid.coordinates[0] + cl.compute_radius() ):\n",
    "            max_x = ( cl.centroid.coordinates[0] + cl.compute_radius() )\n",
    "        if min_y > ( cl.centroid.coordinates[1] - cl.compute_radius() ):\n",
    "            min_y = ( cl.centroid.coordinates[1] - cl.compute_radius() )\n",
    "        if max_y < ( cl.centroid.coordinates[1] + cl.compute_radius() ):\n",
    "            max_y = ( cl.centroid.coordinates[1] + cl.compute_radius() )\n",
    "\n",
    "    for cl in clusters:\n",
    "        col = [random.uniform(0, 1) for i in range (0, 3)]\n",
    "        x = []\n",
    "        y = []\n",
    "        for p in cl.points:\n",
    "            x.append(p.coordinates[0])\n",
    "            y.append(p.coordinates[1])\n",
    "        ax.scatter(x, y, c = col)\n",
    "\n",
    "    plt.xlim(min_x - 1, max_x + 1)\n",
    "    plt.ylim(min_y - 1, max_y + 1)\n",
    "    ax.axis('off')\n",
    "    plt.show()"
   ]
  },
  {
   "cell_type": "markdown",
   "metadata": {},
   "source": [
    "Sviluppiamo il metodo del collasso su una generica matrice delle distanze.\n",
    "Notiamo: la matrice si crea usando cluster di base. \n",
    "Inoltre diamo la possibilità di visualizzare passo dopo passo l'evolversi del procedimento."
   ]
  },
  {
   "cell_type": "code",
   "execution_count": 71,
   "metadata": {},
   "outputs": [],
   "source": [
    "def min_distance(m):\n",
    "    min_distance = float(\"inf\")\n",
    "    idxs = (0, 0)\n",
    "    for i in range (len(m)):\n",
    "        for j in range (i + 1, len(m)):\n",
    "            if m[i][j] < min_distance:\n",
    "                min_distance = m[i][j]\n",
    "                idxs = (i, j)\n",
    "    return idxs\n",
    "\n",
    "def collapse(p, idxs):\n",
    "    i = min(idxs[0], idxs[1])\n",
    "    j = max(idxs[0], idxs[1])\n",
    "    cl1 = p.pop(j)\n",
    "    cl2 = p.pop(i)  \n",
    "    cl1.merge_cluster(cl2)\n",
    "    p.append(cl1)\n",
    "    return p  \n",
    "\n",
    "def collapse_method_fixed_k(points, k = 3, visualize = False):\n",
    "    clusters = []\n",
    "    for p in points:\n",
    "        cl = cluster()\n",
    "        cl.add_point(p)\n",
    "        clusters.append(cl)\n",
    "    while len(clusters) > k:\n",
    "        if visualize == True:\n",
    "            show_clusters(clusters)\n",
    "        distances = []\n",
    "        for i in range (len(clusters)):\n",
    "            d = []\n",
    "            for j in range (0, i + 1):\n",
    "                d.append(0)\n",
    "            for j in range (i + 1, len(clusters)):\n",
    "                d.append(clusters[i].distance(clusters[j].centroid))\n",
    "            distances.append(d)\n",
    "        idxs = min_distance(distances)\n",
    "        clusters = collapse(clusters, idxs)\n",
    "    if visualize == True:\n",
    "        show_clusters(clusters)\n",
    "    return clusters"
   ]
  },
  {
   "cell_type": "code",
   "execution_count": 74,
   "metadata": {},
   "outputs": [],
   "source": [
    "clusters = collapse_method_fixed_k (points, k = NUMBER_OF_CLUSTERS, visualize = False)"
   ]
  },
  {
   "cell_type": "code",
   "execution_count": 75,
   "metadata": {},
   "outputs": [
    {
     "name": "stderr",
     "output_type": "stream",
     "text": [
      "C:\\Users\\39346\\AppData\\Local\\Temp\\ipykernel_8000\\893558313.py:15: UserWarning: *c* argument looks like a single numeric RGB or RGBA sequence, which should be avoided as value-mapping will have precedence in case its length matches with *x* & *y*.  Please use the *color* keyword-argument or provide a 2D array with a single row if you intend to specify the same RGB or RGBA value for all points.\n",
      "  ax.scatter(cl.centroid.coordinates[0], cl.centroid.coordinates[1],  c = col)\n",
      "C:\\Users\\39346\\AppData\\Local\\Temp\\ipykernel_8000\\893558313.py:33: UserWarning: *c* argument looks like a single numeric RGB or RGBA sequence, which should be avoided as value-mapping will have precedence in case its length matches with *x* & *y*.  Please use the *color* keyword-argument or provide a 2D array with a single row if you intend to specify the same RGB or RGBA value for all points.\n",
      "  ax.scatter(x, y, c = col)\n"
     ]
    },
    {
     "data": {
      "image/png": "[encoded data removed]",
      "text/plain": [
       "<Figure size 640x480 with 1 Axes>"
      ]
     },
     "metadata": {},
     "output_type": "display_data"
    }
   ],
   "source": [
    "show_clusters(clusters)"
   ]
  },
  {
   "cell_type": "markdown",
   "metadata": {},
   "source": [
    "Grazie di aver letto questo semplicissimo notebook."
   ]
  }
 ],
 "metadata": {
  "kernelspec": {
   "display_name": "Python 3",
   "language": "python",
   "name": "python3"
  },
  "language_info": {
   "codemirror_mode": {
    "name": "ipython",
    "version": 3
   },
   "file_extension": ".py",
   "mimetype": "text/x-python",
   "name": "python",
   "nbconvert_exporter": "python",
   "pygments_lexer": "ipython3",
   "version": "3.12.3"
  }
 },
 "nbformat": 4,
 "nbformat_minor": 2
}
